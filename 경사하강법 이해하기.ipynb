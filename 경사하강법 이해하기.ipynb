{
 "cells": [
  {
   "cell_type": "code",
   "execution_count": 3,
   "metadata": {},
   "outputs": [
    {
     "name": "stdout",
     "output_type": "stream",
     "text": [
      "x_0 = 0.0\n",
      "x_1 = 2.0\n",
      "x_2 = 3.2\n",
      "x_3 = 3.92\n",
      "x_4 = 4.352\n",
      "x_5 = 4.6112003\n",
      "x_6 = 4.7667203\n",
      "x_7 = 4.860032\n",
      "x_8 = 4.9160194\n",
      "x_9 = 4.9496117\n"
     ]
    }
   ],
   "source": [
    "import tensorflow as tf\n",
    "\n",
    "X = tf.Variable(0.)\n",
    "Y = tf.constant(10.)\n",
    "H = 2 * X\n",
    "\n",
    "\n",
    "loss = tf.square(H-Y)\n",
    "optimize = tf.train.GradientDescentOptimizer(0.05).minimize(loss)\n",
    "\n",
    "\n",
    "sess = tf.Session()\n",
    "sess.run(tf.global_variables_initializer())\n",
    "sequence = []\n",
    "\n",
    "for i in range(10):\n",
    "    print(\"x_%i = %s\" %(+i, sess.run(X)))\n",
    "    sess.run(optimize)\n",
    "    sequence.append(sess.run(X))"
   ]
  },
  {
   "cell_type": "code",
   "execution_count": 4,
   "metadata": {},
   "outputs": [
    {
     "name": "stdout",
     "output_type": "stream",
     "text": [
      "x_0 = 0.0\n",
      "x_1 = 20.0\n",
      "x_2 = -40.0\n",
      "x_3 = 140.0\n",
      "x_4 = -400.0\n",
      "x_5 = 1220.0\n",
      "x_6 = -3640.0\n",
      "x_7 = 10940.0\n",
      "x_8 = -32800.0\n",
      "x_9 = 98420.0\n"
     ]
    }
   ],
   "source": [
    "import tensorflow as tf\n",
    "\n",
    "X = tf.Variable(0.)\n",
    "Y = tf.constant(10.)\n",
    "H = 2 * X\n",
    "\n",
    "\n",
    "loss = tf.square(H-Y)\n",
    "optimize = tf.train.GradientDescentOptimizer(0.5).minimize(loss)\n",
    "\n",
    "\n",
    "sess = tf.Session()\n",
    "sess.run(tf.global_variables_initializer())\n",
    "sequence = []\n",
    "\n",
    "for i in range(10):\n",
    "    print(\"x_%i = %s\" %(+i, sess.run(X)))\n",
    "    sess.run(optimize)\n",
    "    sequence.append(sess.run(X))"
   ]
  },
  {
   "cell_type": "code",
   "execution_count": null,
   "metadata": {},
   "outputs": [],
   "source": []
  }
 ],
 "metadata": {
  "kernelspec": {
   "display_name": "Python 3",
   "language": "python",
   "name": "python3"
  },
  "language_info": {
   "codemirror_mode": {
    "name": "ipython",
    "version": 3
   },
   "file_extension": ".py",
   "mimetype": "text/x-python",
   "name": "python",
   "nbconvert_exporter": "python",
   "pygments_lexer": "ipython3",
   "version": "3.6.8"
  }
 },
 "nbformat": 4,
 "nbformat_minor": 2
}
